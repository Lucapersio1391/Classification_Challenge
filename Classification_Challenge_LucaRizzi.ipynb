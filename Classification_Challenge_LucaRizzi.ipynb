{
 "cells": [
  {
   "cell_type": "markdown",
   "metadata": {},
   "source": [
    "# Classification Challenge"
   ]
  },
  {
   "cell_type": "markdown",
   "metadata": {},
   "source": [
    "The purpose of this challenge is to build a predictive model for the school dataset and use it to predict the gender of twenty students (contained in test set)."
   ]
  },
  {
   "cell_type": "markdown",
   "metadata": {},
   "source": [
    "## Import the packages"
   ]
  },
  {
   "cell_type": "markdown",
   "metadata": {},
   "source": [
    "First of all I import the packages i will be using for the first part the challenge"
   ]
  },
  {
   "cell_type": "code",
   "execution_count": 1,
   "metadata": {},
   "outputs": [
    {
     "name": "stdout",
     "output_type": "stream",
     "text": [
      "Populating the interactive namespace from numpy and matplotlib\n"
     ]
    }
   ],
   "source": [
    "import numpy as np\n",
    "import pandas as pd\n",
    "import matplotlib.pyplot as plt\n",
    "%pylab inline"
   ]
  },
  {
   "cell_type": "markdown",
   "metadata": {},
   "source": [
    "I import also the datasets I was provided with"
   ]
  },
  {
   "cell_type": "code",
   "execution_count": 2,
   "metadata": {},
   "outputs": [],
   "source": [
    "train = pd.read_csv('school_data_train.csv')"
   ]
  },
  {
   "cell_type": "code",
   "execution_count": 3,
   "metadata": {},
   "outputs": [],
   "source": [
    "test = pd.read_csv('school_data_test.csv')"
   ]
  },
  {
   "cell_type": "markdown",
   "metadata": {},
   "source": [
    "Let's have a glance at the datasets"
   ]
  },
  {
   "cell_type": "code",
   "execution_count": 4,
   "metadata": {},
   "outputs": [
    {
     "data": {
      "text/html": [
       "<div>\n",
       "<style scoped>\n",
       "    .dataframe tbody tr th:only-of-type {\n",
       "        vertical-align: middle;\n",
       "    }\n",
       "\n",
       "    .dataframe tbody tr th {\n",
       "        vertical-align: top;\n",
       "    }\n",
       "\n",
       "    .dataframe thead th {\n",
       "        text-align: right;\n",
       "    }\n",
       "</style>\n",
       "<table border=\"1\" class=\"dataframe\">\n",
       "  <thead>\n",
       "    <tr style=\"text-align: right;\">\n",
       "      <th></th>\n",
       "      <th>UserID</th>\n",
       "      <th>Gender</th>\n",
       "      <th>Ageyears</th>\n",
       "      <th>Handed</th>\n",
       "      <th>Height</th>\n",
       "      <th>Foot_Length</th>\n",
       "      <th>Arm_Span</th>\n",
       "      <th>Languages_spoken</th>\n",
       "      <th>Travel_to_School</th>\n",
       "      <th>Travel_time_to_School</th>\n",
       "      <th>Reaction_time</th>\n",
       "      <th>Score_in_memory_game</th>\n",
       "    </tr>\n",
       "  </thead>\n",
       "  <tbody>\n",
       "    <tr>\n",
       "      <th>0</th>\n",
       "      <td>1</td>\n",
       "      <td>F</td>\n",
       "      <td>13</td>\n",
       "      <td>R</td>\n",
       "      <td>174</td>\n",
       "      <td>26</td>\n",
       "      <td>173</td>\n",
       "      <td>2</td>\n",
       "      <td>Car</td>\n",
       "      <td>15</td>\n",
       "      <td>0.350</td>\n",
       "      <td>27</td>\n",
       "    </tr>\n",
       "    <tr>\n",
       "      <th>1</th>\n",
       "      <td>2</td>\n",
       "      <td>F</td>\n",
       "      <td>9</td>\n",
       "      <td>R</td>\n",
       "      <td>139</td>\n",
       "      <td>21</td>\n",
       "      <td>139</td>\n",
       "      <td>6</td>\n",
       "      <td>Walk</td>\n",
       "      <td>5</td>\n",
       "      <td>0.549</td>\n",
       "      <td>0</td>\n",
       "    </tr>\n",
       "    <tr>\n",
       "      <th>2</th>\n",
       "      <td>3</td>\n",
       "      <td>M</td>\n",
       "      <td>12</td>\n",
       "      <td>R</td>\n",
       "      <td>164</td>\n",
       "      <td>30</td>\n",
       "      <td>157</td>\n",
       "      <td>2</td>\n",
       "      <td>Car</td>\n",
       "      <td>10</td>\n",
       "      <td>0.400</td>\n",
       "      <td>33</td>\n",
       "    </tr>\n",
       "    <tr>\n",
       "      <th>3</th>\n",
       "      <td>4</td>\n",
       "      <td>M</td>\n",
       "      <td>11</td>\n",
       "      <td>R</td>\n",
       "      <td>146</td>\n",
       "      <td>26</td>\n",
       "      <td>145</td>\n",
       "      <td>3</td>\n",
       "      <td>Car</td>\n",
       "      <td>1</td>\n",
       "      <td>0.370</td>\n",
       "      <td>28</td>\n",
       "    </tr>\n",
       "    <tr>\n",
       "      <th>4</th>\n",
       "      <td>5</td>\n",
       "      <td>F</td>\n",
       "      <td>10</td>\n",
       "      <td>R</td>\n",
       "      <td>159</td>\n",
       "      <td>22</td>\n",
       "      <td>150</td>\n",
       "      <td>1</td>\n",
       "      <td>Bus</td>\n",
       "      <td>6</td>\n",
       "      <td>0.296</td>\n",
       "      <td>33</td>\n",
       "    </tr>\n",
       "  </tbody>\n",
       "</table>\n",
       "</div>"
      ],
      "text/plain": [
       "   UserID Gender  Ageyears Handed  Height  Foot_Length  Arm_Span  \\\n",
       "0       1      F        13      R     174           26       173   \n",
       "1       2      F         9      R     139           21       139   \n",
       "2       3      M        12      R     164           30       157   \n",
       "3       4      M        11      R     146           26       145   \n",
       "4       5      F        10      R     159           22       150   \n",
       "\n",
       "   Languages_spoken Travel_to_School  Travel_time_to_School  Reaction_time  \\\n",
       "0                 2              Car                     15          0.350   \n",
       "1                 6             Walk                      5          0.549   \n",
       "2                 2              Car                     10          0.400   \n",
       "3                 3              Car                      1          0.370   \n",
       "4                 1              Bus                      6          0.296   \n",
       "\n",
       "   Score_in_memory_game  \n",
       "0                    27  \n",
       "1                     0  \n",
       "2                    33  \n",
       "3                    28  \n",
       "4                    33  "
      ]
     },
     "execution_count": 4,
     "metadata": {},
     "output_type": "execute_result"
    }
   ],
   "source": [
    "train.head()"
   ]
  },
  {
   "cell_type": "code",
   "execution_count": 5,
   "metadata": {},
   "outputs": [
    {
     "data": {
      "text/html": [
       "<div>\n",
       "<style scoped>\n",
       "    .dataframe tbody tr th:only-of-type {\n",
       "        vertical-align: middle;\n",
       "    }\n",
       "\n",
       "    .dataframe tbody tr th {\n",
       "        vertical-align: top;\n",
       "    }\n",
       "\n",
       "    .dataframe thead th {\n",
       "        text-align: right;\n",
       "    }\n",
       "</style>\n",
       "<table border=\"1\" class=\"dataframe\">\n",
       "  <thead>\n",
       "    <tr style=\"text-align: right;\">\n",
       "      <th></th>\n",
       "      <th>UserID</th>\n",
       "      <th>Ageyears</th>\n",
       "      <th>Handed</th>\n",
       "      <th>Height</th>\n",
       "      <th>Foot_Length</th>\n",
       "      <th>Arm_Span</th>\n",
       "      <th>Languages_spoken</th>\n",
       "      <th>Travel_to_School</th>\n",
       "      <th>Travel_time_to_School</th>\n",
       "      <th>Reaction_time</th>\n",
       "      <th>Score_in_memory_game</th>\n",
       "    </tr>\n",
       "  </thead>\n",
       "  <tbody>\n",
       "    <tr>\n",
       "      <th>0</th>\n",
       "      <td>1</td>\n",
       "      <td>11</td>\n",
       "      <td>L</td>\n",
       "      <td>154</td>\n",
       "      <td>20</td>\n",
       "      <td>145</td>\n",
       "      <td>1</td>\n",
       "      <td>Walk</td>\n",
       "      <td>5</td>\n",
       "      <td>0.800</td>\n",
       "      <td>45</td>\n",
       "    </tr>\n",
       "    <tr>\n",
       "      <th>1</th>\n",
       "      <td>2</td>\n",
       "      <td>10</td>\n",
       "      <td>R</td>\n",
       "      <td>161</td>\n",
       "      <td>21</td>\n",
       "      <td>155</td>\n",
       "      <td>1</td>\n",
       "      <td>Car</td>\n",
       "      <td>5</td>\n",
       "      <td>0.406</td>\n",
       "      <td>0</td>\n",
       "    </tr>\n",
       "    <tr>\n",
       "      <th>2</th>\n",
       "      <td>3</td>\n",
       "      <td>6</td>\n",
       "      <td>R</td>\n",
       "      <td>115</td>\n",
       "      <td>18</td>\n",
       "      <td>117</td>\n",
       "      <td>4</td>\n",
       "      <td>Walk</td>\n",
       "      <td>10</td>\n",
       "      <td>0.690</td>\n",
       "      <td>77</td>\n",
       "    </tr>\n",
       "    <tr>\n",
       "      <th>3</th>\n",
       "      <td>4</td>\n",
       "      <td>8</td>\n",
       "      <td>R</td>\n",
       "      <td>138</td>\n",
       "      <td>20</td>\n",
       "      <td>137</td>\n",
       "      <td>1</td>\n",
       "      <td>Car</td>\n",
       "      <td>5</td>\n",
       "      <td>0.312</td>\n",
       "      <td>0</td>\n",
       "    </tr>\n",
       "    <tr>\n",
       "      <th>4</th>\n",
       "      <td>5</td>\n",
       "      <td>17</td>\n",
       "      <td>R</td>\n",
       "      <td>160</td>\n",
       "      <td>21</td>\n",
       "      <td>160</td>\n",
       "      <td>1</td>\n",
       "      <td>Car</td>\n",
       "      <td>7</td>\n",
       "      <td>0.774</td>\n",
       "      <td>35</td>\n",
       "    </tr>\n",
       "  </tbody>\n",
       "</table>\n",
       "</div>"
      ],
      "text/plain": [
       "   UserID  Ageyears Handed  Height  Foot_Length  Arm_Span  Languages_spoken  \\\n",
       "0       1        11      L     154           20       145                 1   \n",
       "1       2        10      R     161           21       155                 1   \n",
       "2       3         6      R     115           18       117                 4   \n",
       "3       4         8      R     138           20       137                 1   \n",
       "4       5        17      R     160           21       160                 1   \n",
       "\n",
       "  Travel_to_School  Travel_time_to_School  Reaction_time  Score_in_memory_game  \n",
       "0             Walk                      5          0.800                    45  \n",
       "1              Car                      5          0.406                     0  \n",
       "2             Walk                     10          0.690                    77  \n",
       "3              Car                      5          0.312                     0  \n",
       "4              Car                      7          0.774                    35  "
      ]
     },
     "execution_count": 5,
     "metadata": {},
     "output_type": "execute_result"
    }
   ],
   "source": [
    "test.head()"
   ]
  },
  {
   "cell_type": "markdown",
   "metadata": {},
   "source": [
    "We can notice how the test dataset hasn't gender column. I have to predict those values."
   ]
  },
  {
   "cell_type": "markdown",
   "metadata": {},
   "source": [
    "Let's see some summary stats and the columns characteristics of both datasets"
   ]
  },
  {
   "cell_type": "code",
   "execution_count": 6,
   "metadata": {},
   "outputs": [
    {
     "data": {
      "text/html": [
       "<div>\n",
       "<style scoped>\n",
       "    .dataframe tbody tr th:only-of-type {\n",
       "        vertical-align: middle;\n",
       "    }\n",
       "\n",
       "    .dataframe tbody tr th {\n",
       "        vertical-align: top;\n",
       "    }\n",
       "\n",
       "    .dataframe thead th {\n",
       "        text-align: right;\n",
       "    }\n",
       "</style>\n",
       "<table border=\"1\" class=\"dataframe\">\n",
       "  <thead>\n",
       "    <tr style=\"text-align: right;\">\n",
       "      <th></th>\n",
       "      <th>UserID</th>\n",
       "      <th>Ageyears</th>\n",
       "      <th>Height</th>\n",
       "      <th>Foot_Length</th>\n",
       "      <th>Arm_Span</th>\n",
       "      <th>Languages_spoken</th>\n",
       "      <th>Travel_time_to_School</th>\n",
       "      <th>Reaction_time</th>\n",
       "      <th>Score_in_memory_game</th>\n",
       "    </tr>\n",
       "  </thead>\n",
       "  <tbody>\n",
       "    <tr>\n",
       "      <th>count</th>\n",
       "      <td>980.000000</td>\n",
       "      <td>980.000000</td>\n",
       "      <td>980.000000</td>\n",
       "      <td>980.000000</td>\n",
       "      <td>980.000000</td>\n",
       "      <td>980.000000</td>\n",
       "      <td>980.000000</td>\n",
       "      <td>980.000000</td>\n",
       "      <td>980.000000</td>\n",
       "    </tr>\n",
       "    <tr>\n",
       "      <th>mean</th>\n",
       "      <td>490.500000</td>\n",
       "      <td>13.259184</td>\n",
       "      <td>159.716327</td>\n",
       "      <td>24.004082</td>\n",
       "      <td>157.143878</td>\n",
       "      <td>1.582653</td>\n",
       "      <td>16.321429</td>\n",
       "      <td>0.423927</td>\n",
       "      <td>38.895918</td>\n",
       "    </tr>\n",
       "    <tr>\n",
       "      <th>std</th>\n",
       "      <td>283.045933</td>\n",
       "      <td>2.392568</td>\n",
       "      <td>14.529219</td>\n",
       "      <td>3.500180</td>\n",
       "      <td>17.733434</td>\n",
       "      <td>0.928663</td>\n",
       "      <td>13.917448</td>\n",
       "      <td>0.232761</td>\n",
       "      <td>21.533009</td>\n",
       "    </tr>\n",
       "    <tr>\n",
       "      <th>min</th>\n",
       "      <td>1.000000</td>\n",
       "      <td>5.000000</td>\n",
       "      <td>90.000000</td>\n",
       "      <td>9.000000</td>\n",
       "      <td>88.000000</td>\n",
       "      <td>1.000000</td>\n",
       "      <td>0.000000</td>\n",
       "      <td>0.000000</td>\n",
       "      <td>0.000000</td>\n",
       "    </tr>\n",
       "    <tr>\n",
       "      <th>25%</th>\n",
       "      <td>245.750000</td>\n",
       "      <td>12.000000</td>\n",
       "      <td>151.000000</td>\n",
       "      <td>22.000000</td>\n",
       "      <td>148.000000</td>\n",
       "      <td>1.000000</td>\n",
       "      <td>5.000000</td>\n",
       "      <td>0.320000</td>\n",
       "      <td>31.000000</td>\n",
       "    </tr>\n",
       "    <tr>\n",
       "      <th>50%</th>\n",
       "      <td>490.500000</td>\n",
       "      <td>13.000000</td>\n",
       "      <td>160.000000</td>\n",
       "      <td>24.000000</td>\n",
       "      <td>158.000000</td>\n",
       "      <td>1.000000</td>\n",
       "      <td>13.000000</td>\n",
       "      <td>0.390000</td>\n",
       "      <td>40.000000</td>\n",
       "    </tr>\n",
       "    <tr>\n",
       "      <th>75%</th>\n",
       "      <td>735.250000</td>\n",
       "      <td>15.000000</td>\n",
       "      <td>169.000000</td>\n",
       "      <td>26.000000</td>\n",
       "      <td>169.000000</td>\n",
       "      <td>2.000000</td>\n",
       "      <td>20.000000</td>\n",
       "      <td>0.490000</td>\n",
       "      <td>49.000000</td>\n",
       "    </tr>\n",
       "    <tr>\n",
       "      <th>max</th>\n",
       "      <td>980.000000</td>\n",
       "      <td>20.000000</td>\n",
       "      <td>226.000000</td>\n",
       "      <td>45.000000</td>\n",
       "      <td>218.000000</td>\n",
       "      <td>9.000000</td>\n",
       "      <td>127.000000</td>\n",
       "      <td>1.920000</td>\n",
       "      <td>213.000000</td>\n",
       "    </tr>\n",
       "  </tbody>\n",
       "</table>\n",
       "</div>"
      ],
      "text/plain": [
       "           UserID    Ageyears      Height  Foot_Length    Arm_Span  \\\n",
       "count  980.000000  980.000000  980.000000   980.000000  980.000000   \n",
       "mean   490.500000   13.259184  159.716327    24.004082  157.143878   \n",
       "std    283.045933    2.392568   14.529219     3.500180   17.733434   \n",
       "min      1.000000    5.000000   90.000000     9.000000   88.000000   \n",
       "25%    245.750000   12.000000  151.000000    22.000000  148.000000   \n",
       "50%    490.500000   13.000000  160.000000    24.000000  158.000000   \n",
       "75%    735.250000   15.000000  169.000000    26.000000  169.000000   \n",
       "max    980.000000   20.000000  226.000000    45.000000  218.000000   \n",
       "\n",
       "       Languages_spoken  Travel_time_to_School  Reaction_time  \\\n",
       "count        980.000000             980.000000     980.000000   \n",
       "mean           1.582653              16.321429       0.423927   \n",
       "std            0.928663              13.917448       0.232761   \n",
       "min            1.000000               0.000000       0.000000   \n",
       "25%            1.000000               5.000000       0.320000   \n",
       "50%            1.000000              13.000000       0.390000   \n",
       "75%            2.000000              20.000000       0.490000   \n",
       "max            9.000000             127.000000       1.920000   \n",
       "\n",
       "       Score_in_memory_game  \n",
       "count            980.000000  \n",
       "mean              38.895918  \n",
       "std               21.533009  \n",
       "min                0.000000  \n",
       "25%               31.000000  \n",
       "50%               40.000000  \n",
       "75%               49.000000  \n",
       "max              213.000000  "
      ]
     },
     "execution_count": 6,
     "metadata": {},
     "output_type": "execute_result"
    }
   ],
   "source": [
    "train.describe()"
   ]
  },
  {
   "cell_type": "code",
   "execution_count": 7,
   "metadata": {},
   "outputs": [
    {
     "data": {
      "text/html": [
       "<div>\n",
       "<style scoped>\n",
       "    .dataframe tbody tr th:only-of-type {\n",
       "        vertical-align: middle;\n",
       "    }\n",
       "\n",
       "    .dataframe tbody tr th {\n",
       "        vertical-align: top;\n",
       "    }\n",
       "\n",
       "    .dataframe thead th {\n",
       "        text-align: right;\n",
       "    }\n",
       "</style>\n",
       "<table border=\"1\" class=\"dataframe\">\n",
       "  <thead>\n",
       "    <tr style=\"text-align: right;\">\n",
       "      <th></th>\n",
       "      <th>UserID</th>\n",
       "      <th>Ageyears</th>\n",
       "      <th>Height</th>\n",
       "      <th>Foot_Length</th>\n",
       "      <th>Arm_Span</th>\n",
       "      <th>Languages_spoken</th>\n",
       "      <th>Travel_time_to_School</th>\n",
       "      <th>Reaction_time</th>\n",
       "      <th>Score_in_memory_game</th>\n",
       "    </tr>\n",
       "  </thead>\n",
       "  <tbody>\n",
       "    <tr>\n",
       "      <th>count</th>\n",
       "      <td>20.00000</td>\n",
       "      <td>20.000000</td>\n",
       "      <td>20.000000</td>\n",
       "      <td>20.00000</td>\n",
       "      <td>20.000000</td>\n",
       "      <td>20.000000</td>\n",
       "      <td>20.00000</td>\n",
       "      <td>20.000000</td>\n",
       "      <td>20.000000</td>\n",
       "    </tr>\n",
       "    <tr>\n",
       "      <th>mean</th>\n",
       "      <td>10.50000</td>\n",
       "      <td>11.850000</td>\n",
       "      <td>155.500000</td>\n",
       "      <td>23.95000</td>\n",
       "      <td>151.100000</td>\n",
       "      <td>1.500000</td>\n",
       "      <td>14.65000</td>\n",
       "      <td>0.434600</td>\n",
       "      <td>39.500000</td>\n",
       "    </tr>\n",
       "    <tr>\n",
       "      <th>std</th>\n",
       "      <td>5.91608</td>\n",
       "      <td>2.870448</td>\n",
       "      <td>14.158873</td>\n",
       "      <td>3.54631</td>\n",
       "      <td>15.616793</td>\n",
       "      <td>0.945905</td>\n",
       "      <td>14.00855</td>\n",
       "      <td>0.166552</td>\n",
       "      <td>16.388378</td>\n",
       "    </tr>\n",
       "    <tr>\n",
       "      <th>min</th>\n",
       "      <td>1.00000</td>\n",
       "      <td>6.000000</td>\n",
       "      <td>115.000000</td>\n",
       "      <td>18.00000</td>\n",
       "      <td>117.000000</td>\n",
       "      <td>1.000000</td>\n",
       "      <td>2.00000</td>\n",
       "      <td>0.248000</td>\n",
       "      <td>0.000000</td>\n",
       "    </tr>\n",
       "    <tr>\n",
       "      <th>25%</th>\n",
       "      <td>5.75000</td>\n",
       "      <td>11.000000</td>\n",
       "      <td>148.750000</td>\n",
       "      <td>21.00000</td>\n",
       "      <td>143.750000</td>\n",
       "      <td>1.000000</td>\n",
       "      <td>5.00000</td>\n",
       "      <td>0.318000</td>\n",
       "      <td>38.750000</td>\n",
       "    </tr>\n",
       "    <tr>\n",
       "      <th>50%</th>\n",
       "      <td>10.50000</td>\n",
       "      <td>11.000000</td>\n",
       "      <td>155.500000</td>\n",
       "      <td>23.00000</td>\n",
       "      <td>152.500000</td>\n",
       "      <td>1.000000</td>\n",
       "      <td>10.00000</td>\n",
       "      <td>0.393500</td>\n",
       "      <td>41.000000</td>\n",
       "    </tr>\n",
       "    <tr>\n",
       "      <th>75%</th>\n",
       "      <td>15.25000</td>\n",
       "      <td>14.000000</td>\n",
       "      <td>162.750000</td>\n",
       "      <td>27.25000</td>\n",
       "      <td>158.500000</td>\n",
       "      <td>2.000000</td>\n",
       "      <td>12.75000</td>\n",
       "      <td>0.452500</td>\n",
       "      <td>44.250000</td>\n",
       "    </tr>\n",
       "    <tr>\n",
       "      <th>max</th>\n",
       "      <td>20.00000</td>\n",
       "      <td>17.000000</td>\n",
       "      <td>179.000000</td>\n",
       "      <td>30.00000</td>\n",
       "      <td>181.000000</td>\n",
       "      <td>4.000000</td>\n",
       "      <td>50.00000</td>\n",
       "      <td>0.800000</td>\n",
       "      <td>77.000000</td>\n",
       "    </tr>\n",
       "  </tbody>\n",
       "</table>\n",
       "</div>"
      ],
      "text/plain": [
       "         UserID   Ageyears      Height  Foot_Length    Arm_Span  \\\n",
       "count  20.00000  20.000000   20.000000     20.00000   20.000000   \n",
       "mean   10.50000  11.850000  155.500000     23.95000  151.100000   \n",
       "std     5.91608   2.870448   14.158873      3.54631   15.616793   \n",
       "min     1.00000   6.000000  115.000000     18.00000  117.000000   \n",
       "25%     5.75000  11.000000  148.750000     21.00000  143.750000   \n",
       "50%    10.50000  11.000000  155.500000     23.00000  152.500000   \n",
       "75%    15.25000  14.000000  162.750000     27.25000  158.500000   \n",
       "max    20.00000  17.000000  179.000000     30.00000  181.000000   \n",
       "\n",
       "       Languages_spoken  Travel_time_to_School  Reaction_time  \\\n",
       "count         20.000000               20.00000      20.000000   \n",
       "mean           1.500000               14.65000       0.434600   \n",
       "std            0.945905               14.00855       0.166552   \n",
       "min            1.000000                2.00000       0.248000   \n",
       "25%            1.000000                5.00000       0.318000   \n",
       "50%            1.000000               10.00000       0.393500   \n",
       "75%            2.000000               12.75000       0.452500   \n",
       "max            4.000000               50.00000       0.800000   \n",
       "\n",
       "       Score_in_memory_game  \n",
       "count             20.000000  \n",
       "mean              39.500000  \n",
       "std               16.388378  \n",
       "min                0.000000  \n",
       "25%               38.750000  \n",
       "50%               41.000000  \n",
       "75%               44.250000  \n",
       "max               77.000000  "
      ]
     },
     "execution_count": 7,
     "metadata": {},
     "output_type": "execute_result"
    }
   ],
   "source": [
    "test.describe()"
   ]
  },
  {
   "cell_type": "code",
   "execution_count": 8,
   "metadata": {},
   "outputs": [
    {
     "name": "stdout",
     "output_type": "stream",
     "text": [
      "<class 'pandas.core.frame.DataFrame'>\n",
      "RangeIndex: 980 entries, 0 to 979\n",
      "Data columns (total 12 columns):\n",
      "UserID                   980 non-null int64\n",
      "Gender                   980 non-null object\n",
      "Ageyears                 980 non-null int64\n",
      "Handed                   980 non-null object\n",
      "Height                   980 non-null int64\n",
      "Foot_Length              980 non-null int64\n",
      "Arm_Span                 980 non-null int64\n",
      "Languages_spoken         980 non-null int64\n",
      "Travel_to_School         980 non-null object\n",
      "Travel_time_to_School    980 non-null int64\n",
      "Reaction_time            980 non-null float64\n",
      "Score_in_memory_game     980 non-null int64\n",
      "dtypes: float64(1), int64(8), object(3)\n",
      "memory usage: 92.0+ KB\n"
     ]
    }
   ],
   "source": [
    "train.info()"
   ]
  },
  {
   "cell_type": "markdown",
   "metadata": {},
   "source": [
    "## Some exploratory analysis"
   ]
  },
  {
   "cell_type": "markdown",
   "metadata": {},
   "source": [
    "Let's see some visualization"
   ]
  },
  {
   "cell_type": "markdown",
   "metadata": {},
   "source": [
    "We can notice how the distribution of the numeric columns looks something similar to a normal just for the arm span variable"
   ]
  },
  {
   "cell_type": "code",
   "execution_count": 9,
   "metadata": {},
   "outputs": [
    {
     "data": {
      "image/png": "[encoded data removed]",
      "text/plain": [
       "<Figure size 720x432 with 9 Axes>"
      ]
     },
     "metadata": {},
     "output_type": "display_data"
    }
   ],
   "source": [
    "train.drop('UserID', axis = 1).hist(figsize = (10,6))\n",
    "plt.style.use('ggplot')\n",
    "plt.tight_layout()"
   ]
  },
  {
   "cell_type": "markdown",
   "metadata": {},
   "source": [
    "Let's see the zero values, which can be seen in this case as missing values. In the real world it doesn't make a lot of sense a student who scores zero in memory game, has no reaction time and has a zero minute long trip to get to school (the latter can be possible though)"
   ]
  },
  {
   "cell_type": "code",
   "execution_count": 10,
   "metadata": {},
   "outputs": [
    {
     "name": "stdout",
     "output_type": "stream",
     "text": [
      "1\n",
      "65\n",
      "138\n"
     ]
    }
   ],
   "source": [
    "print(len(train[train.Travel_time_to_School == 0]))\n",
    "print(len(train[train.Reaction_time == 0]))\n",
    "print(len(train[train.Score_in_memory_game == 0]))"
   ]
  },
  {
   "cell_type": "markdown",
   "metadata": {},
   "source": [
    "I define a function that will be replacing 0 values with the average"
   ]
  },
  {
   "cell_type": "code",
   "execution_count": 11,
   "metadata": {},
   "outputs": [],
   "source": [
    "def repmv(x):\n",
    "    train[x][train[x] == 0] = np.mean(train[x])\n",
    "    return train[x]"
   ]
  },
  {
   "cell_type": "code",
   "execution_count": 12,
   "metadata": {},
   "outputs": [
    {
     "name": "stderr",
     "output_type": "stream",
     "text": [
      "C:\\Users\\lucar\\Anaconda3\\lib\\site-packages\\ipykernel_launcher.py:2: SettingWithCopyWarning: \n",
      "A value is trying to be set on a copy of a slice from a DataFrame\n",
      "\n",
      "See the caveats in the documentation: http://pandas.pydata.org/pandas-docs/stable/indexing.html#indexing-view-versus-copy\n",
      "  \n",
      "C:\\Users\\lucar\\Anaconda3\\lib\\site-packages\\ipykernel_launcher.py:2: SettingWithCopyWarning: \n",
      "A value is trying to be set on a copy of a slice from a DataFrame\n",
      "\n",
      "See the caveats in the documentation: http://pandas.pydata.org/pandas-docs/stable/indexing.html#indexing-view-versus-copy\n",
      "  \n"
     ]
    },
    {
     "data": {
      "text/plain": [
       "0      27.000000\n",
       "1      38.895918\n",
       "2      33.000000\n",
       "3      28.000000\n",
       "4      33.000000\n",
       "5      34.000000\n",
       "6      41.000000\n",
       "7      44.000000\n",
       "8      39.000000\n",
       "9      82.000000\n",
       "10     38.895918\n",
       "11     61.000000\n",
       "12     25.000000\n",
       "13     42.000000\n",
       "14     32.000000\n",
       "15     32.000000\n",
       "16     30.000000\n",
       "17     38.895918\n",
       "18     31.000000\n",
       "19     73.000000\n",
       "20     62.000000\n",
       "21     52.000000\n",
       "22     46.000000\n",
       "23     42.000000\n",
       "24     67.000000\n",
       "25     38.895918\n",
       "26     40.000000\n",
       "27     57.000000\n",
       "28     43.000000\n",
       "29     34.000000\n",
       "         ...    \n",
       "950    38.895918\n",
       "951    55.000000\n",
       "952    28.000000\n",
       "953    45.000000\n",
       "954    32.000000\n",
       "955    30.000000\n",
       "956    57.000000\n",
       "957    58.000000\n",
       "958    47.000000\n",
       "959    37.000000\n",
       "960    40.000000\n",
       "961    38.000000\n",
       "962    40.000000\n",
       "963    38.895918\n",
       "964    36.000000\n",
       "965    46.000000\n",
       "966    39.000000\n",
       "967    46.000000\n",
       "968    38.895918\n",
       "969    56.000000\n",
       "970    29.000000\n",
       "971    35.000000\n",
       "972    35.000000\n",
       "973    53.000000\n",
       "974    41.000000\n",
       "975    41.000000\n",
       "976    45.000000\n",
       "977    70.000000\n",
       "978    67.000000\n",
       "979    34.000000\n",
       "Name: Score_in_memory_game, Length: 980, dtype: float64"
      ]
     },
     "execution_count": 12,
     "metadata": {},
     "output_type": "execute_result"
    }
   ],
   "source": [
    "repmv('Reaction_time')\n",
    "repmv('Travel_time_to_School')\n",
    "repmv('Score_in_memory_game')"
   ]
  },
  {
   "cell_type": "markdown",
   "metadata": {},
   "source": [
    "Let's double check if we have no longer 0 values"
   ]
  },
  {
   "cell_type": "code",
   "execution_count": 13,
   "metadata": {},
   "outputs": [
    {
     "name": "stdout",
     "output_type": "stream",
     "text": [
      "0\n",
      "0\n",
      "0\n"
     ]
    }
   ],
   "source": [
    "print(len(train[train.Travel_time_to_School == 0]))\n",
    "print(len(train[train.Reaction_time == 0]))\n",
    "print(len(train[train.Score_in_memory_game == 0]))"
   ]
  },
  {
   "cell_type": "markdown",
   "metadata": {},
   "source": [
    "Here we are"
   ]
  },
  {
   "cell_type": "markdown",
   "metadata": {},
   "source": [
    "I create the following dataframe for plotting some boxplots"
   ]
  },
  {
   "cell_type": "code",
   "execution_count": 14,
   "metadata": {},
   "outputs": [],
   "source": [
    "h = train.loc[:,['Height', 'Arm_Span', 'Foot_Length', 'Score_in_memory_game', 'Travel_time_to_School','Gender']]"
   ]
  },
  {
   "cell_type": "markdown",
   "metadata": {},
   "source": [
    "#### Using both matplotlib (for creating the canvas and the axes) and pandas built-in visualization I can plot in the same cell all the boxplots I'm interested in.\n",
    "#### We can see that, apart from foot length, the averages are approximately the same, also for height, surprisingly. This can be due to the fact that the students are very young, so the difference in height averages is not so big."
   ]
  },
  {
   "cell_type": "code",
   "execution_count": 15,
   "metadata": {},
   "outputs": [
    {
     "data": {
      "image/png": "[encoded data removed]",
      "text/plain": [
       "<Figure size 792x792 with 5 Axes>"
      ]
     },
     "metadata": {},
     "output_type": "display_data"
    }
   ],
   "source": [
    "fig, ax = plt.subplots(3,2, figsize = (11,11))\n",
    "for i, el in enumerate(list(h.columns.values)[:-1]):\n",
    "                       h.boxplot(el, by = 'Gender', ax = ax.flatten()[i])\n",
    "fig.delaxes(ax[2,1]) # remove the empty canvas\n",
    "plt.tight_layout() "
   ]
  },
  {
   "cell_type": "markdown",
   "metadata": {},
   "source": [
    "I remove UserID column"
   ]
  },
  {
   "cell_type": "code",
   "execution_count": 16,
   "metadata": {},
   "outputs": [],
   "source": [
    "train.drop('UserID', inplace=True, axis = 1)"
   ]
  },
  {
   "cell_type": "markdown",
   "metadata": {},
   "source": [
    "## Preprocessing"
   ]
  },
  {
   "cell_type": "markdown",
   "metadata": {},
   "source": [
    "### The preprocessing is a very important phase. I'm going to create two functions. The first will be applied to some columns, whereas the second to both test and train set."
   ]
  },
  {
   "cell_type": "markdown",
   "metadata": {},
   "source": [
    "First I import the StandardScaler package for performing some scaling. This is required in KNN algorithm as it relies on euclidean distance for classifying the data. We need the values to be in a range that is comparable."
   ]
  },
  {
   "cell_type": "code",
   "execution_count": 17,
   "metadata": {},
   "outputs": [],
   "source": [
    "from sklearn.preprocessing import StandardScaler"
   ]
  },
  {
   "cell_type": "markdown",
   "metadata": {},
   "source": [
    "I'll be using the first function for turning the categorical variables into dummy variables."
   ]
  },
  {
   "cell_type": "code",
   "execution_count": 18,
   "metadata": {},
   "outputs": [],
   "source": [
    "def preprocess(d,c):\n",
    "    d[c] = d[c].astype('category').cat.codes\n",
    "    return d[c]"
   ]
  },
  {
   "cell_type": "markdown",
   "metadata": {},
   "source": [
    "This second function will perform the scaling on the predictive variables. "
   ]
  },
  {
   "cell_type": "code",
   "execution_count": 19,
   "metadata": {},
   "outputs": [],
   "source": [
    "def scale(x, i):\n",
    "    scaler = StandardScaler()\n",
    "    scaler.fit(x.drop([i],axis=1))\n",
    "    scaled_features = scaler.transform((x.drop([i],axis=1)))\n",
    "    scaledfeat = pd.DataFrame(scaled_features)\n",
    "    scaledfeat.rename(columns ={0: 'Ageyears', 1: 'Handed',2: 'Height', 3: 'Foot_Length', 4: 'Arm_Span', 5: 'Languages_spoken', 6: 'Travel_to_School', 7: 'Travel_time_to_School', 8: 'Reaction_time', 9:'Score_in_memory_game'}, inplace = True)\n",
    "    return scaledfeat"
   ]
  },
  {
   "cell_type": "markdown",
   "metadata": {},
   "source": [
    "Now I apply the preprocess function to the columns I'm interested in"
   ]
  },
  {
   "cell_type": "code",
   "execution_count": 20,
   "metadata": {},
   "outputs": [
    {
     "data": {
      "text/plain": [
       "0     4\n",
       "1     1\n",
       "2     4\n",
       "3     1\n",
       "4     1\n",
       "5     1\n",
       "6     3\n",
       "7     1\n",
       "8     0\n",
       "9     1\n",
       "10    1\n",
       "11    4\n",
       "12    1\n",
       "13    1\n",
       "14    4\n",
       "15    1\n",
       "16    1\n",
       "17    2\n",
       "18    0\n",
       "19    1\n",
       "Name: Travel_to_School, dtype: int8"
      ]
     },
     "execution_count": 20,
     "metadata": {},
     "output_type": "execute_result"
    }
   ],
   "source": [
    "preprocess(train,'Handed')\n",
    "preprocess(train, 'Travel_to_School')\n",
    "preprocess(train, 'Gender')\n",
    "preprocess(test,'Handed')\n",
    "preprocess(test, 'Travel_to_School')"
   ]
  },
  {
   "cell_type": "markdown",
   "metadata": {},
   "source": [
    "Then, I apply the scale function to both datasets"
   ]
  },
  {
   "cell_type": "code",
   "execution_count": 22,
   "metadata": {},
   "outputs": [
    {
     "data": {
      "text/html": [
       "<div>\n",
       "<style scoped>\n",
       "    .dataframe tbody tr th:only-of-type {\n",
       "        vertical-align: middle;\n",
       "    }\n",
       "\n",
       "    .dataframe tbody tr th {\n",
       "        vertical-align: top;\n",
       "    }\n",
       "\n",
       "    .dataframe thead th {\n",
       "        text-align: right;\n",
       "    }\n",
       "</style>\n",
       "<table border=\"1\" class=\"dataframe\">\n",
       "  <thead>\n",
       "    <tr style=\"text-align: right;\">\n",
       "      <th></th>\n",
       "      <th>Ageyears</th>\n",
       "      <th>Handed</th>\n",
       "      <th>Height</th>\n",
       "      <th>Foot_Length</th>\n",
       "      <th>Arm_Span</th>\n",
       "      <th>Languages_spoken</th>\n",
       "      <th>Travel_to_School</th>\n",
       "      <th>Travel_time_to_School</th>\n",
       "      <th>Reaction_time</th>\n",
       "      <th>Score_in_memory_game</th>\n",
       "    </tr>\n",
       "  </thead>\n",
       "  <tbody>\n",
       "    <tr>\n",
       "      <th>0</th>\n",
       "      <td>-0.303814</td>\n",
       "      <td>-1.257237</td>\n",
       "      <td>-0.108693</td>\n",
       "      <td>-1.142769</td>\n",
       "      <td>-0.400752</td>\n",
       "      <td>-0.542326</td>\n",
       "      <td>1.787964</td>\n",
       "      <td>-0.706761</td>\n",
       "      <td>2.250897</td>\n",
       "      <td>0.344322</td>\n",
       "    </tr>\n",
       "    <tr>\n",
       "      <th>1</th>\n",
       "      <td>-0.661242</td>\n",
       "      <td>0.538816</td>\n",
       "      <td>0.398540</td>\n",
       "      <td>-0.853461</td>\n",
       "      <td>0.256219</td>\n",
       "      <td>-0.542326</td>\n",
       "      <td>-0.494543</td>\n",
       "      <td>-0.706761</td>\n",
       "      <td>-0.176179</td>\n",
       "      <td>-2.472859</td>\n",
       "    </tr>\n",
       "    <tr>\n",
       "      <th>2</th>\n",
       "      <td>-2.090953</td>\n",
       "      <td>0.538816</td>\n",
       "      <td>-2.934706</td>\n",
       "      <td>-1.721387</td>\n",
       "      <td>-2.240272</td>\n",
       "      <td>2.711631</td>\n",
       "      <td>1.787964</td>\n",
       "      <td>-0.340563</td>\n",
       "      <td>1.573287</td>\n",
       "      <td>2.347651</td>\n",
       "    </tr>\n",
       "    <tr>\n",
       "      <th>3</th>\n",
       "      <td>-1.376097</td>\n",
       "      <td>0.538816</td>\n",
       "      <td>-1.268083</td>\n",
       "      <td>-1.142769</td>\n",
       "      <td>-0.926329</td>\n",
       "      <td>-0.542326</td>\n",
       "      <td>-0.494543</td>\n",
       "      <td>-0.706761</td>\n",
       "      <td>-0.755227</td>\n",
       "      <td>-2.472859</td>\n",
       "    </tr>\n",
       "    <tr>\n",
       "      <th>4</th>\n",
       "      <td>1.840754</td>\n",
       "      <td>0.538816</td>\n",
       "      <td>0.326078</td>\n",
       "      <td>-0.853461</td>\n",
       "      <td>0.584704</td>\n",
       "      <td>-0.542326</td>\n",
       "      <td>-0.494543</td>\n",
       "      <td>-0.560282</td>\n",
       "      <td>2.090735</td>\n",
       "      <td>-0.281718</td>\n",
       "    </tr>\n",
       "    <tr>\n",
       "      <th>5</th>\n",
       "      <td>-0.303814</td>\n",
       "      <td>-1.257237</td>\n",
       "      <td>-0.108693</td>\n",
       "      <td>-0.274843</td>\n",
       "      <td>0.190522</td>\n",
       "      <td>-0.542326</td>\n",
       "      <td>-0.494543</td>\n",
       "      <td>-0.340563</td>\n",
       "      <td>1.573287</td>\n",
       "      <td>0.031302</td>\n",
       "    </tr>\n",
       "    <tr>\n",
       "      <th>6</th>\n",
       "      <td>-0.303814</td>\n",
       "      <td>0.538816</td>\n",
       "      <td>0.108693</td>\n",
       "      <td>0.882392</td>\n",
       "      <td>0.453310</td>\n",
       "      <td>0.542326</td>\n",
       "      <td>1.027128</td>\n",
       "      <td>2.589014</td>\n",
       "      <td>-0.644345</td>\n",
       "      <td>-0.344322</td>\n",
       "    </tr>\n",
       "    <tr>\n",
       "      <th>7</th>\n",
       "      <td>1.125898</td>\n",
       "      <td>0.538816</td>\n",
       "      <td>1.268083</td>\n",
       "      <td>1.171700</td>\n",
       "      <td>1.767253</td>\n",
       "      <td>0.542326</td>\n",
       "      <td>-0.494543</td>\n",
       "      <td>-0.706761</td>\n",
       "      <td>-0.268580</td>\n",
       "      <td>0.093906</td>\n",
       "    </tr>\n",
       "    <tr>\n",
       "      <th>8</th>\n",
       "      <td>0.411042</td>\n",
       "      <td>0.538816</td>\n",
       "      <td>0.471002</td>\n",
       "      <td>-0.274843</td>\n",
       "      <td>0.453310</td>\n",
       "      <td>0.542326</td>\n",
       "      <td>-1.255379</td>\n",
       "      <td>1.270704</td>\n",
       "      <td>-0.890749</td>\n",
       "      <td>0.093906</td>\n",
       "    </tr>\n",
       "    <tr>\n",
       "      <th>9</th>\n",
       "      <td>1.483326</td>\n",
       "      <td>0.538816</td>\n",
       "      <td>0.688388</td>\n",
       "      <td>-0.274843</td>\n",
       "      <td>-0.006570</td>\n",
       "      <td>-0.542326</td>\n",
       "      <td>-0.494543</td>\n",
       "      <td>-0.340563</td>\n",
       "      <td>-0.188499</td>\n",
       "      <td>-0.031302</td>\n",
       "    </tr>\n",
       "    <tr>\n",
       "      <th>10</th>\n",
       "      <td>0.768470</td>\n",
       "      <td>0.538816</td>\n",
       "      <td>-0.398540</td>\n",
       "      <td>-1.142769</td>\n",
       "      <td>-0.729238</td>\n",
       "      <td>-0.542326</td>\n",
       "      <td>-0.494543</td>\n",
       "      <td>2.222817</td>\n",
       "      <td>-0.237780</td>\n",
       "      <td>0.657342</td>\n",
       "    </tr>\n",
       "    <tr>\n",
       "      <th>11</th>\n",
       "      <td>0.053614</td>\n",
       "      <td>0.538816</td>\n",
       "      <td>0.760850</td>\n",
       "      <td>1.171700</td>\n",
       "      <td>-0.400752</td>\n",
       "      <td>-0.542326</td>\n",
       "      <td>1.787964</td>\n",
       "      <td>-0.340563</td>\n",
       "      <td>-0.890749</td>\n",
       "      <td>0.344322</td>\n",
       "    </tr>\n",
       "    <tr>\n",
       "      <th>12</th>\n",
       "      <td>-1.733525</td>\n",
       "      <td>0.538816</td>\n",
       "      <td>-0.615926</td>\n",
       "      <td>-0.274843</td>\n",
       "      <td>-0.269358</td>\n",
       "      <td>0.542326</td>\n",
       "      <td>-0.494543</td>\n",
       "      <td>-0.340563</td>\n",
       "      <td>-0.213139</td>\n",
       "      <td>0.281718</td>\n",
       "    </tr>\n",
       "    <tr>\n",
       "      <th>13</th>\n",
       "      <td>0.768470</td>\n",
       "      <td>-1.257237</td>\n",
       "      <td>1.413006</td>\n",
       "      <td>1.750318</td>\n",
       "      <td>1.241676</td>\n",
       "      <td>-0.542326</td>\n",
       "      <td>-0.494543</td>\n",
       "      <td>-0.340563</td>\n",
       "      <td>-0.705946</td>\n",
       "      <td>0.219114</td>\n",
       "    </tr>\n",
       "    <tr>\n",
       "      <th>14</th>\n",
       "      <td>-0.303814</td>\n",
       "      <td>0.538816</td>\n",
       "      <td>-0.615926</td>\n",
       "      <td>1.171700</td>\n",
       "      <td>-1.648998</td>\n",
       "      <td>-0.542326</td>\n",
       "      <td>1.787964</td>\n",
       "      <td>-0.194085</td>\n",
       "      <td>-0.465703</td>\n",
       "      <td>-0.031302</td>\n",
       "    </tr>\n",
       "    <tr>\n",
       "      <th>15</th>\n",
       "      <td>-0.303814</td>\n",
       "      <td>0.538816</td>\n",
       "      <td>-0.543464</td>\n",
       "      <td>-0.564152</td>\n",
       "      <td>-0.400752</td>\n",
       "      <td>2.711631</td>\n",
       "      <td>-0.494543</td>\n",
       "      <td>-0.706761</td>\n",
       "      <td>-0.397942</td>\n",
       "      <td>0.093906</td>\n",
       "    </tr>\n",
       "    <tr>\n",
       "      <th>16</th>\n",
       "      <td>-0.303814</td>\n",
       "      <td>-3.053290</td>\n",
       "      <td>-0.471002</td>\n",
       "      <td>-0.274843</td>\n",
       "      <td>-0.729238</td>\n",
       "      <td>-0.542326</td>\n",
       "      <td>-0.494543</td>\n",
       "      <td>-0.926479</td>\n",
       "      <td>0.094865</td>\n",
       "      <td>-0.031302</td>\n",
       "    </tr>\n",
       "    <tr>\n",
       "      <th>17</th>\n",
       "      <td>1.125898</td>\n",
       "      <td>0.538816</td>\n",
       "      <td>1.702854</td>\n",
       "      <td>1.461009</td>\n",
       "      <td>1.964344</td>\n",
       "      <td>-0.542326</td>\n",
       "      <td>0.266293</td>\n",
       "      <td>-0.340563</td>\n",
       "      <td>-1.149473</td>\n",
       "      <td>-0.093906</td>\n",
       "    </tr>\n",
       "    <tr>\n",
       "      <th>18</th>\n",
       "      <td>0.411042</td>\n",
       "      <td>0.538816</td>\n",
       "      <td>0.326078</td>\n",
       "      <td>0.303774</td>\n",
       "      <td>0.584704</td>\n",
       "      <td>-0.542326</td>\n",
       "      <td>-1.255379</td>\n",
       "      <td>1.490423</td>\n",
       "      <td>-0.755227</td>\n",
       "      <td>0.156510</td>\n",
       "    </tr>\n",
       "    <tr>\n",
       "      <th>19</th>\n",
       "      <td>-0.303814</td>\n",
       "      <td>-1.257237</td>\n",
       "      <td>-0.398540</td>\n",
       "      <td>0.882392</td>\n",
       "      <td>0.256219</td>\n",
       "      <td>-0.542326</td>\n",
       "      <td>-0.494543</td>\n",
       "      <td>0.025634</td>\n",
       "      <td>0.156466</td>\n",
       "      <td>1.095570</td>\n",
       "    </tr>\n",
       "  </tbody>\n",
       "</table>\n",
       "</div>"
      ],
      "text/plain": [
       "    Ageyears    Handed    Height  Foot_Length  Arm_Span  Languages_spoken  \\\n",
       "0  -0.303814 -1.257237 -0.108693    -1.142769 -0.400752         -0.542326   \n",
       "1  -0.661242  0.538816  0.398540    -0.853461  0.256219         -0.542326   \n",
       "2  -2.090953  0.538816 -2.934706    -1.721387 -2.240272          2.711631   \n",
       "3  -1.376097  0.538816 -1.268083    -1.142769 -0.926329         -0.542326   \n",
       "4   1.840754  0.538816  0.326078    -0.853461  0.584704         -0.542326   \n",
       "5  -0.303814 -1.257237 -0.108693    -0.274843  0.190522         -0.542326   \n",
       "6  -0.303814  0.538816  0.108693     0.882392  0.453310          0.542326   \n",
       "7   1.125898  0.538816  1.268083     1.171700  1.767253          0.542326   \n",
       "8   0.411042  0.538816  0.471002    -0.274843  0.453310          0.542326   \n",
       "9   1.483326  0.538816  0.688388    -0.274843 -0.006570         -0.542326   \n",
       "10  0.768470  0.538816 -0.398540    -1.142769 -0.729238         -0.542326   \n",
       "11  0.053614  0.538816  0.760850     1.171700 -0.400752         -0.542326   \n",
       "12 -1.733525  0.538816 -0.615926    -0.274843 -0.269358          0.542326   \n",
       "13  0.768470 -1.257237  1.413006     1.750318  1.241676         -0.542326   \n",
       "14 -0.303814  0.538816 -0.615926     1.171700 -1.648998         -0.542326   \n",
       "15 -0.303814  0.538816 -0.543464    -0.564152 -0.400752          2.711631   \n",
       "16 -0.303814 -3.053290 -0.471002    -0.274843 -0.729238         -0.542326   \n",
       "17  1.125898  0.538816  1.702854     1.461009  1.964344         -0.542326   \n",
       "18  0.411042  0.538816  0.326078     0.303774  0.584704         -0.542326   \n",
       "19 -0.303814 -1.257237 -0.398540     0.882392  0.256219         -0.542326   \n",
       "\n",
       "    Travel_to_School  Travel_time_to_School  Reaction_time  \\\n",
       "0           1.787964              -0.706761       2.250897   \n",
       "1          -0.494543              -0.706761      -0.176179   \n",
       "2           1.787964              -0.340563       1.573287   \n",
       "3          -0.494543              -0.706761      -0.755227   \n",
       "4          -0.494543              -0.560282       2.090735   \n",
       "5          -0.494543              -0.340563       1.573287   \n",
       "6           1.027128               2.589014      -0.644345   \n",
       "7          -0.494543              -0.706761      -0.268580   \n",
       "8          -1.255379               1.270704      -0.890749   \n",
       "9          -0.494543              -0.340563      -0.188499   \n",
       "10         -0.494543               2.222817      -0.237780   \n",
       "11          1.787964              -0.340563      -0.890749   \n",
       "12         -0.494543              -0.340563      -0.213139   \n",
       "13         -0.494543              -0.340563      -0.705946   \n",
       "14          1.787964              -0.194085      -0.465703   \n",
       "15         -0.494543              -0.706761      -0.397942   \n",
       "16         -0.494543              -0.926479       0.094865   \n",
       "17          0.266293              -0.340563      -1.149473   \n",
       "18         -1.255379               1.490423      -0.755227   \n",
       "19         -0.494543               0.025634       0.156466   \n",
       "\n",
       "    Score_in_memory_game  \n",
       "0               0.344322  \n",
       "1              -2.472859  \n",
       "2               2.347651  \n",
       "3              -2.472859  \n",
       "4              -0.281718  \n",
       "5               0.031302  \n",
       "6              -0.344322  \n",
       "7               0.093906  \n",
       "8               0.093906  \n",
       "9              -0.031302  \n",
       "10              0.657342  \n",
       "11              0.344322  \n",
       "12              0.281718  \n",
       "13              0.219114  \n",
       "14             -0.031302  \n",
       "15              0.093906  \n",
       "16             -0.031302  \n",
       "17             -0.093906  \n",
       "18              0.156510  \n",
       "19              1.095570  "
      ]
     },
     "execution_count": 22,
     "metadata": {},
     "output_type": "execute_result"
    }
   ],
   "source": [
    "scale(train, 'Gender')\n",
    "scale(test, 'UserID')"
   ]
  },
  {
   "cell_type": "markdown",
   "metadata": {},
   "source": [
    "Let's have a look at the new df_train dataframe"
   ]
  },
  {
   "cell_type": "code",
   "execution_count": 23,
   "metadata": {},
   "outputs": [
    {
     "data": {
      "text/html": [
       "<div>\n",
       "<style scoped>\n",
       "    .dataframe tbody tr th:only-of-type {\n",
       "        vertical-align: middle;\n",
       "    }\n",
       "\n",
       "    .dataframe tbody tr th {\n",
       "        vertical-align: top;\n",
       "    }\n",
       "\n",
       "    .dataframe thead th {\n",
       "        text-align: right;\n",
       "    }\n",
       "</style>\n",
       "<table border=\"1\" class=\"dataframe\">\n",
       "  <thead>\n",
       "    <tr style=\"text-align: right;\">\n",
       "      <th></th>\n",
       "      <th>Ageyears</th>\n",
       "      <th>Handed</th>\n",
       "      <th>Height</th>\n",
       "      <th>Foot_Length</th>\n",
       "      <th>Arm_Span</th>\n",
       "      <th>Languages_spoken</th>\n",
       "      <th>Travel_to_School</th>\n",
       "      <th>Travel_time_to_School</th>\n",
       "      <th>Reaction_time</th>\n",
       "      <th>Score_in_memory_game</th>\n",
       "    </tr>\n",
       "  </thead>\n",
       "  <tbody>\n",
       "    <tr>\n",
       "      <th>0</th>\n",
       "      <td>-0.108384</td>\n",
       "      <td>0.369026</td>\n",
       "      <td>0.983602</td>\n",
       "      <td>0.570524</td>\n",
       "      <td>0.894594</td>\n",
       "      <td>0.449635</td>\n",
       "      <td>-0.414478</td>\n",
       "      <td>-0.096261</td>\n",
       "      <td>-0.501449</td>\n",
       "      <td>-1.170874</td>\n",
       "    </tr>\n",
       "    <tr>\n",
       "      <th>1</th>\n",
       "      <td>-1.781082</td>\n",
       "      <td>0.369026</td>\n",
       "      <td>-1.426567</td>\n",
       "      <td>-0.858703</td>\n",
       "      <td>-1.023668</td>\n",
       "      <td>4.759100</td>\n",
       "      <td>1.815284</td>\n",
       "      <td>-0.815657</td>\n",
       "      <td>0.476441</td>\n",
       "      <td>-0.369139</td>\n",
       "    </tr>\n",
       "    <tr>\n",
       "      <th>2</th>\n",
       "      <td>-0.526558</td>\n",
       "      <td>0.369026</td>\n",
       "      <td>0.294982</td>\n",
       "      <td>1.713906</td>\n",
       "      <td>-0.008117</td>\n",
       "      <td>0.449635</td>\n",
       "      <td>-0.414478</td>\n",
       "      <td>-0.455959</td>\n",
       "      <td>-0.255748</td>\n",
       "      <td>-0.766499</td>\n",
       "    </tr>\n",
       "    <tr>\n",
       "      <th>3</th>\n",
       "      <td>-0.944733</td>\n",
       "      <td>0.369026</td>\n",
       "      <td>-0.944533</td>\n",
       "      <td>0.570524</td>\n",
       "      <td>-0.685151</td>\n",
       "      <td>1.527002</td>\n",
       "      <td>-0.414478</td>\n",
       "      <td>-1.103415</td>\n",
       "      <td>-0.403169</td>\n",
       "      <td>-1.103478</td>\n",
       "    </tr>\n",
       "    <tr>\n",
       "      <th>4</th>\n",
       "      <td>-1.362907</td>\n",
       "      <td>0.369026</td>\n",
       "      <td>-0.049328</td>\n",
       "      <td>-0.572858</td>\n",
       "      <td>-0.403054</td>\n",
       "      <td>-0.627731</td>\n",
       "      <td>-0.786105</td>\n",
       "      <td>-0.743717</td>\n",
       "      <td>-0.766807</td>\n",
       "      <td>-0.766499</td>\n",
       "    </tr>\n",
       "  </tbody>\n",
       "</table>\n",
       "</div>"
      ],
      "text/plain": [
       "   Ageyears    Handed    Height  Foot_Length  Arm_Span  Languages_spoken  \\\n",
       "0 -0.108384  0.369026  0.983602     0.570524  0.894594          0.449635   \n",
       "1 -1.781082  0.369026 -1.426567    -0.858703 -1.023668          4.759100   \n",
       "2 -0.526558  0.369026  0.294982     1.713906 -0.008117          0.449635   \n",
       "3 -0.944733  0.369026 -0.944533     0.570524 -0.685151          1.527002   \n",
       "4 -1.362907  0.369026 -0.049328    -0.572858 -0.403054         -0.627731   \n",
       "\n",
       "   Travel_to_School  Travel_time_to_School  Reaction_time  \\\n",
       "0         -0.414478              -0.096261      -0.501449   \n",
       "1          1.815284              -0.815657       0.476441   \n",
       "2         -0.414478              -0.455959      -0.255748   \n",
       "3         -0.414478              -1.103415      -0.403169   \n",
       "4         -0.786105              -0.743717      -0.766807   \n",
       "\n",
       "   Score_in_memory_game  \n",
       "0             -1.170874  \n",
       "1             -0.369139  \n",
       "2             -0.766499  \n",
       "3             -1.103478  \n",
       "4             -0.766499  "
      ]
     },
     "execution_count": 23,
     "metadata": {},
     "output_type": "execute_result"
    }
   ],
   "source": [
    "df_train.head()"
   ]
  },
  {
   "cell_type": "markdown",
   "metadata": {},
   "source": [
    "## Modelling "
   ]
  },
  {
   "cell_type": "markdown",
   "metadata": {},
   "source": [
    "After the preprocessing phase, now it's time to build some models"
   ]
  },
  {
   "cell_type": "markdown",
   "metadata": {},
   "source": [
    "I start from importing the train_test_split package, which split arrays into random train and test subsets"
   ]
  },
  {
   "cell_type": "code",
   "execution_count": 24,
   "metadata": {},
   "outputs": [],
   "source": [
    "from sklearn.model_selection import train_test_split"
   ]
  },
  {
   "cell_type": "markdown",
   "metadata": {},
   "source": [
    "Then, I define my X matrix (the predictive variables) and my y array (the response variable)"
   ]
  },
  {
   "cell_type": "code",
   "execution_count": 25,
   "metadata": {},
   "outputs": [],
   "source": [
    "X = df_train.loc[:,'Ageyears': 'Score_in_memory_game']\n",
    "y = df_train['Gender'] = train['Gender']"
   ]
  },
  {
   "cell_type": "markdown",
   "metadata": {},
   "source": [
    "I use the tuple unpacking for creating 4 subsets I'll be using for create my KNN model"
   ]
  },
  {
   "cell_type": "code",
   "execution_count": 26,
   "metadata": {},
   "outputs": [],
   "source": [
    "X_train, X_test, y_train, y_test = train_test_split(X, y,test_size = .25,random_state=100)"
   ]
  },
  {
   "cell_type": "markdown",
   "metadata": {},
   "source": [
    "I import KNN classifier"
   ]
  },
  {
   "cell_type": "code",
   "execution_count": 27,
   "metadata": {},
   "outputs": [],
   "source": [
    "from sklearn.neighbors import KNeighborsClassifier"
   ]
  },
  {
   "cell_type": "markdown",
   "metadata": {},
   "source": [
    "I start by using the simplest knn model with just 1 neighbor"
   ]
  },
  {
   "cell_type": "code",
   "execution_count": 28,
   "metadata": {},
   "outputs": [],
   "source": [
    "knn = KNeighborsClassifier(n_neighbors = 1) #simplest model"
   ]
  },
  {
   "cell_type": "markdown",
   "metadata": {},
   "source": [
    "Then I fit the model on train dataset and after that I predict on test set"
   ]
  },
  {
   "cell_type": "code",
   "execution_count": 29,
   "metadata": {},
   "outputs": [
    {
     "data": {
      "text/plain": [
       "KNeighborsClassifier(algorithm='auto', leaf_size=30, metric='minkowski',\n",
       "           metric_params=None, n_jobs=1, n_neighbors=1, p=2,\n",
       "           weights='uniform')"
      ]
     },
     "execution_count": 29,
     "metadata": {},
     "output_type": "execute_result"
    }
   ],
   "source": [
    "knn.fit(X_train,y_train)"
   ]
  },
  {
   "cell_type": "code",
   "execution_count": 30,
   "metadata": {},
   "outputs": [],
   "source": [
    "pred = knn.predict(X_test)"
   ]
  },
  {
   "cell_type": "code",
   "execution_count": 31,
   "metadata": {},
   "outputs": [
    {
     "data": {
      "text/plain": [
       "0.6244897959183674"
      ]
     },
     "execution_count": 31,
     "metadata": {},
     "output_type": "execute_result"
    }
   ],
   "source": [
    "knn.score(X_test, y_test) "
   ]
  },
  {
   "cell_type": "markdown",
   "metadata": {},
   "source": [
    "As we can see we don't have a very accurate prediction"
   ]
  },
  {
   "cell_type": "markdown",
   "metadata": {},
   "source": [
    "#### Metrics"
   ]
  },
  {
   "cell_type": "markdown",
   "metadata": {},
   "source": [
    "Let's use some metrics in order to get some details about model performance"
   ]
  },
  {
   "cell_type": "code",
   "execution_count": 32,
   "metadata": {},
   "outputs": [],
   "source": [
    "from sklearn.metrics import classification_report,confusion_matrix"
   ]
  },
  {
   "cell_type": "code",
   "execution_count": 33,
   "metadata": {},
   "outputs": [
    {
     "name": "stdout",
     "output_type": "stream",
     "text": [
      "[[95 39]\n",
      " [53 58]]\n"
     ]
    }
   ],
   "source": [
    "print(confusion_matrix(y_test,pred))"
   ]
  },
  {
   "cell_type": "code",
   "execution_count": 34,
   "metadata": {},
   "outputs": [
    {
     "name": "stdout",
     "output_type": "stream",
     "text": [
      "             precision    recall  f1-score   support\n",
      "\n",
      "          0       0.64      0.71      0.67       134\n",
      "          1       0.60      0.52      0.56       111\n",
      "\n",
      "avg / total       0.62      0.62      0.62       245\n",
      "\n"
     ]
    }
   ],
   "source": [
    "print(classification_report(y_test,pred))"
   ]
  },
  {
   "cell_type": "markdown",
   "metadata": {},
   "source": [
    "We can see that the model is not very efficient in both precision and recall terms. "
   ]
  },
  {
   "cell_type": "markdown",
   "metadata": {},
   "source": [
    "### Model enhancement"
   ]
  },
  {
   "cell_type": "markdown",
   "metadata": {},
   "source": [
    "I iterate over the number of neighbors from 1 to 30. What we want to get is a list which contains the error rates for each number of K picked.\n"
   ]
  },
  {
   "cell_type": "code",
   "execution_count": 35,
   "metadata": {},
   "outputs": [],
   "source": [
    "error_rate = [] # this is the list that will be filled with the numpy object\n",
    "\n",
    "for i in range(1,30):\n",
    "    knn = KNeighborsClassifier(n_neighbors=i)\n",
    "    knn.fit(X_train,y_train)\n",
    "    pred_i = knn.predict(X_test)\n",
    "    error_rate.append(np.mean(pred_i != y_test))"
   ]
  },
  {
   "cell_type": "markdown",
   "metadata": {},
   "source": [
    "It is common use to do some vizualization in order to pick up the right number ok K"
   ]
  },
  {
   "cell_type": "code",
   "execution_count": 36,
   "metadata": {},
   "outputs": [
    {
     "data": {
      "text/plain": [
       "Text(0,0.5,'Error Rate')"
      ]
     },
     "execution_count": 36,
     "metadata": {},
     "output_type": "execute_result"
    },
    {
     "data": {
      "image/png": "[encoded data removed]",
      "text/plain": [
       "<Figure size 720x432 with 1 Axes>"
      ]
     },
     "metadata": {},
     "output_type": "display_data"
    }
   ],
   "source": [
    "plt.figure(figsize=(10,6))\n",
    "plt.plot(range(1,30),error_rate,color='blue', linestyle='dashed', marker='o',\n",
    "         markerfacecolor='red', markersize=10)\n",
    "plt.title('Error Rate vs. Number of K')\n",
    "plt.xlabel('Number of K')\n",
    "plt.ylabel('Error Rate')"
   ]
  },
  {
   "cell_type": "markdown",
   "metadata": {},
   "source": [
    "### K = 11 is the best choice according to this plot"
   ]
  },
  {
   "cell_type": "markdown",
   "metadata": {},
   "source": [
    "I'm going to do the same thing I did for the previous model"
   ]
  },
  {
   "cell_type": "code",
   "execution_count": 37,
   "metadata": {},
   "outputs": [],
   "source": [
    "knn2 = KNeighborsClassifier(n_neighbors = 11)"
   ]
  },
  {
   "cell_type": "code",
   "execution_count": 38,
   "metadata": {},
   "outputs": [
    {
     "data": {
      "text/plain": [
       "KNeighborsClassifier(algorithm='auto', leaf_size=30, metric='minkowski',\n",
       "           metric_params=None, n_jobs=1, n_neighbors=11, p=2,\n",
       "           weights='uniform')"
      ]
     },
     "execution_count": 38,
     "metadata": {},
     "output_type": "execute_result"
    }
   ],
   "source": [
    "knn2.fit(X_train, y_train)"
   ]
  },
  {
   "cell_type": "code",
   "execution_count": 39,
   "metadata": {},
   "outputs": [],
   "source": [
    "pred2 = knn2.predict(X_test)"
   ]
  },
  {
   "cell_type": "code",
   "execution_count": 40,
   "metadata": {},
   "outputs": [
    {
     "name": "stdout",
     "output_type": "stream",
     "text": [
      "[[110  24]\n",
      " [ 51  60]]\n"
     ]
    }
   ],
   "source": [
    "print(confusion_matrix(y_test, pred2))"
   ]
  },
  {
   "cell_type": "code",
   "execution_count": 41,
   "metadata": {},
   "outputs": [
    {
     "name": "stdout",
     "output_type": "stream",
     "text": [
      "             precision    recall  f1-score   support\n",
      "\n",
      "          0       0.68      0.82      0.75       134\n",
      "          1       0.71      0.54      0.62       111\n",
      "\n",
      "avg / total       0.70      0.69      0.69       245\n",
      "\n"
     ]
    }
   ],
   "source": [
    "print(classification_report(y_test, pred2))"
   ]
  },
  {
   "cell_type": "code",
   "execution_count": 42,
   "metadata": {},
   "outputs": [
    {
     "data": {
      "text/plain": [
       "0.6938775510204082"
      ]
     },
     "execution_count": 42,
     "metadata": {},
     "output_type": "execute_result"
    }
   ],
   "source": [
    "knn2.score(X_test, y_test)"
   ]
  },
  {
   "cell_type": "markdown",
   "metadata": {},
   "source": [
    "#### We got a better result overall"
   ]
  },
  {
   "cell_type": "markdown",
   "metadata": {},
   "source": [
    "Now that I've picked the best K value, I can make the prediction on the 20 students of the test dataframe"
   ]
  },
  {
   "cell_type": "code",
   "execution_count": 43,
   "metadata": {},
   "outputs": [],
   "source": [
    "gender_prediction = knn2.predict(df_test)"
   ]
  },
  {
   "cell_type": "code",
   "execution_count": 44,
   "metadata": {},
   "outputs": [
    {
     "data": {
      "text/plain": [
       "array([0, 0, 0, 0, 0, 0, 1, 1, 0, 0, 0, 1, 1, 1, 1, 0, 1, 1, 0, 0],\n",
       "      dtype=int8)"
      ]
     },
     "execution_count": 44,
     "metadata": {},
     "output_type": "execute_result"
    }
   ],
   "source": [
    "gender_prediction"
   ]
  },
  {
   "cell_type": "markdown",
   "metadata": {},
   "source": [
    "I create the output dataframe in the format requested"
   ]
  },
  {
   "cell_type": "code",
   "execution_count": 45,
   "metadata": {},
   "outputs": [],
   "source": [
    "output = pd.DataFrame({'UserID' : range(1,21), 'Gender': gender_prediction})"
   ]
  },
  {
   "cell_type": "code",
   "execution_count": 46,
   "metadata": {},
   "outputs": [],
   "source": [
    "output.loc[output['Gender'] == 0, 'Gender'] = 'F'\n",
    "output.loc[output['Gender'] == 1, 'Gender'] = 'M'"
   ]
  },
  {
   "cell_type": "code",
   "execution_count": 47,
   "metadata": {},
   "outputs": [
    {
     "data": {
      "text/html": [
       "<div>\n",
       "<style scoped>\n",
       "    .dataframe tbody tr th:only-of-type {\n",
       "        vertical-align: middle;\n",
       "    }\n",
       "\n",
       "    .dataframe tbody tr th {\n",
       "        vertical-align: top;\n",
       "    }\n",
       "\n",
       "    .dataframe thead th {\n",
       "        text-align: right;\n",
       "    }\n",
       "</style>\n",
       "<table border=\"1\" class=\"dataframe\">\n",
       "  <thead>\n",
       "    <tr style=\"text-align: right;\">\n",
       "      <th></th>\n",
       "      <th>UserID</th>\n",
       "      <th>Gender</th>\n",
       "    </tr>\n",
       "  </thead>\n",
       "  <tbody>\n",
       "    <tr>\n",
       "      <th>0</th>\n",
       "      <td>1</td>\n",
       "      <td>F</td>\n",
       "    </tr>\n",
       "    <tr>\n",
       "      <th>1</th>\n",
       "      <td>2</td>\n",
       "      <td>F</td>\n",
       "    </tr>\n",
       "    <tr>\n",
       "      <th>2</th>\n",
       "      <td>3</td>\n",
       "      <td>F</td>\n",
       "    </tr>\n",
       "    <tr>\n",
       "      <th>3</th>\n",
       "      <td>4</td>\n",
       "      <td>F</td>\n",
       "    </tr>\n",
       "    <tr>\n",
       "      <th>4</th>\n",
       "      <td>5</td>\n",
       "      <td>F</td>\n",
       "    </tr>\n",
       "    <tr>\n",
       "      <th>5</th>\n",
       "      <td>6</td>\n",
       "      <td>F</td>\n",
       "    </tr>\n",
       "    <tr>\n",
       "      <th>6</th>\n",
       "      <td>7</td>\n",
       "      <td>M</td>\n",
       "    </tr>\n",
       "    <tr>\n",
       "      <th>7</th>\n",
       "      <td>8</td>\n",
       "      <td>M</td>\n",
       "    </tr>\n",
       "    <tr>\n",
       "      <th>8</th>\n",
       "      <td>9</td>\n",
       "      <td>F</td>\n",
       "    </tr>\n",
       "    <tr>\n",
       "      <th>9</th>\n",
       "      <td>10</td>\n",
       "      <td>F</td>\n",
       "    </tr>\n",
       "    <tr>\n",
       "      <th>10</th>\n",
       "      <td>11</td>\n",
       "      <td>F</td>\n",
       "    </tr>\n",
       "    <tr>\n",
       "      <th>11</th>\n",
       "      <td>12</td>\n",
       "      <td>M</td>\n",
       "    </tr>\n",
       "    <tr>\n",
       "      <th>12</th>\n",
       "      <td>13</td>\n",
       "      <td>M</td>\n",
       "    </tr>\n",
       "    <tr>\n",
       "      <th>13</th>\n",
       "      <td>14</td>\n",
       "      <td>M</td>\n",
       "    </tr>\n",
       "    <tr>\n",
       "      <th>14</th>\n",
       "      <td>15</td>\n",
       "      <td>M</td>\n",
       "    </tr>\n",
       "    <tr>\n",
       "      <th>15</th>\n",
       "      <td>16</td>\n",
       "      <td>F</td>\n",
       "    </tr>\n",
       "    <tr>\n",
       "      <th>16</th>\n",
       "      <td>17</td>\n",
       "      <td>M</td>\n",
       "    </tr>\n",
       "    <tr>\n",
       "      <th>17</th>\n",
       "      <td>18</td>\n",
       "      <td>M</td>\n",
       "    </tr>\n",
       "    <tr>\n",
       "      <th>18</th>\n",
       "      <td>19</td>\n",
       "      <td>F</td>\n",
       "    </tr>\n",
       "    <tr>\n",
       "      <th>19</th>\n",
       "      <td>20</td>\n",
       "      <td>F</td>\n",
       "    </tr>\n",
       "  </tbody>\n",
       "</table>\n",
       "</div>"
      ],
      "text/plain": [
       "    UserID Gender\n",
       "0        1      F\n",
       "1        2      F\n",
       "2        3      F\n",
       "3        4      F\n",
       "4        5      F\n",
       "5        6      F\n",
       "6        7      M\n",
       "7        8      M\n",
       "8        9      F\n",
       "9       10      F\n",
       "10      11      F\n",
       "11      12      M\n",
       "12      13      M\n",
       "13      14      M\n",
       "14      15      M\n",
       "15      16      F\n",
       "16      17      M\n",
       "17      18      M\n",
       "18      19      F\n",
       "19      20      F"
      ]
     },
     "execution_count": 47,
     "metadata": {},
     "output_type": "execute_result"
    }
   ],
   "source": [
    "output"
   ]
  },
  {
   "cell_type": "markdown",
   "metadata": {},
   "source": [
    "I set UserID column as index, as it is what I need for the output format"
   ]
  },
  {
   "cell_type": "code",
   "execution_count": 48,
   "metadata": {},
   "outputs": [],
   "source": [
    "output.set_index('UserID', inplace = True)"
   ]
  },
  {
   "cell_type": "markdown",
   "metadata": {},
   "source": [
    "Finally, I use to_csv function of pandas in order to convert the dataframe into a csv file"
   ]
  },
  {
   "cell_type": "code",
   "execution_count": 49,
   "metadata": {},
   "outputs": [],
   "source": [
    "output.to_csv('output.csv')"
   ]
  },
  {
   "cell_type": "markdown",
   "metadata": {},
   "source": [
    "### Cross-validation"
   ]
  },
  {
   "cell_type": "markdown",
   "metadata": {},
   "source": [
    "Let's try if with cross-validation we have a better accuracy"
   ]
  },
  {
   "cell_type": "code",
   "execution_count": 50,
   "metadata": {},
   "outputs": [],
   "source": [
    "#I import the package I need\n",
    "from sklearn.model_selection import cross_val_score"
   ]
  },
  {
   "cell_type": "code",
   "execution_count": 51,
   "metadata": {},
   "outputs": [],
   "source": [
    "# creating a list of K for KNN\n",
    "neighbors = list(range(1,50))\n",
    "\n",
    "# empty list that will contain cv scores\n",
    "cv_scores = []\n",
    "\n",
    "# perform 10-fold cross validation\n",
    "for k in neighbors:\n",
    "    knn3 = KNeighborsClassifier(n_neighbors=k)\n",
    "    scores = cross_val_score(knn3, X_train, y_train, cv=10, scoring='accuracy')\n",
    "    cv_scores.append(scores.mean())"
   ]
  },
  {
   "cell_type": "markdown",
   "metadata": {},
   "source": [
    "This represents the Mean Squared Error for each of the K "
   ]
  },
  {
   "cell_type": "code",
   "execution_count": 52,
   "metadata": {},
   "outputs": [],
   "source": [
    "MSE = [1 - x for x in cv_scores]"
   ]
  },
  {
   "cell_type": "markdown",
   "metadata": {},
   "source": [
    "Let's plot to see which is the best value of K while performing cross validation"
   ]
  },
  {
   "cell_type": "code",
   "execution_count": 53,
   "metadata": {},
   "outputs": [
    {
     "data": {
      "image/png": "[encoded data removed]",
      "text/plain": [
       "<Figure size 432x288 with 1 Axes>"
      ]
     },
     "metadata": {},
     "output_type": "display_data"
    }
   ],
   "source": [
    "plt.plot(neighbors, MSE)\n",
    "plt.xlabel('Number of Neighbors K')\n",
    "plt.ylabel('Error')\n",
    "plt.show()"
   ]
  },
  {
   "cell_type": "markdown",
   "metadata": {},
   "source": [
    "Actually from the plot it is not easy to spot the k for which we get the lower MSE.\n",
    "\n",
    "\n",
    "Let's use the index method along with min function to get the number of K which minimizes the error"
   ]
  },
  {
   "cell_type": "code",
   "execution_count": 54,
   "metadata": {},
   "outputs": [
    {
     "data": {
      "text/plain": [
       "16"
      ]
     },
     "execution_count": 54,
     "metadata": {},
     "output_type": "execute_result"
    }
   ],
   "source": [
    "MSE.index(min(MSE))"
   ]
  },
  {
   "cell_type": "markdown",
   "metadata": {},
   "source": [
    "16 is the best value for K in the case of cross validation"
   ]
  },
  {
   "cell_type": "code",
   "execution_count": 55,
   "metadata": {},
   "outputs": [
    {
     "data": {
      "text/plain": [
       "0    0.683115\n",
       "dtype: float64"
      ]
     },
     "execution_count": 55,
     "metadata": {},
     "output_type": "execute_result"
    }
   ],
   "source": [
    "cv_scores_max = pd.DataFrame(cv_scores).max()\n",
    "cv_scores_max"
   ]
  },
  {
   "cell_type": "markdown",
   "metadata": {},
   "source": [
    "#### We get approximately the same accuracy (a bit less) as with K = 11 without using cross validation"
   ]
  },
  {
   "cell_type": "markdown",
   "metadata": {},
   "source": [
    "## Other Models"
   ]
  },
  {
   "cell_type": "markdown",
   "metadata": {},
   "source": [
    "We've seen that KNN is not a very good model in terms of accuracy. Let's try with another ones. I will still be using the scaled features as input variables, even if it is not strictly required, as it was for KNN algorithm."
   ]
  },
  {
   "cell_type": "markdown",
   "metadata": {},
   "source": [
    "I try first the decision tree algorithm"
   ]
  },
  {
   "cell_type": "markdown",
   "metadata": {},
   "source": [
    "### Decision tree"
   ]
  },
  {
   "cell_type": "code",
   "execution_count": 56,
   "metadata": {},
   "outputs": [],
   "source": [
    "from sklearn.tree import DecisionTreeClassifier"
   ]
  },
  {
   "cell_type": "code",
   "execution_count": 57,
   "metadata": {},
   "outputs": [],
   "source": [
    "dtree = DecisionTreeClassifier()"
   ]
  },
  {
   "cell_type": "code",
   "execution_count": 58,
   "metadata": {},
   "outputs": [
    {
     "data": {
      "text/plain": [
       "DecisionTreeClassifier(class_weight=None, criterion='gini', max_depth=None,\n",
       "            max_features=None, max_leaf_nodes=None,\n",
       "            min_impurity_decrease=0.0, min_impurity_split=None,\n",
       "            min_samples_leaf=1, min_samples_split=2,\n",
       "            min_weight_fraction_leaf=0.0, presort=False, random_state=None,\n",
       "            splitter='best')"
      ]
     },
     "execution_count": 58,
     "metadata": {},
     "output_type": "execute_result"
    }
   ],
   "source": [
    "dtree.fit(X_train,y_train)"
   ]
  },
  {
   "cell_type": "code",
   "execution_count": 59,
   "metadata": {},
   "outputs": [],
   "source": [
    "predictions = dtree.predict(X_test)"
   ]
  },
  {
   "cell_type": "code",
   "execution_count": 60,
   "metadata": {},
   "outputs": [
    {
     "name": "stdout",
     "output_type": "stream",
     "text": [
      "             precision    recall  f1-score   support\n",
      "\n",
      "          0       0.62      0.63      0.62       134\n",
      "          1       0.54      0.53      0.54       111\n",
      "\n",
      "avg / total       0.58      0.58      0.58       245\n",
      "\n"
     ]
    }
   ],
   "source": [
    "print(classification_report(y_test,predictions))"
   ]
  },
  {
   "cell_type": "code",
   "execution_count": 61,
   "metadata": {},
   "outputs": [
    {
     "name": "stdout",
     "output_type": "stream",
     "text": [
      "[[84 50]\n",
      " [52 59]]\n"
     ]
    }
   ],
   "source": [
    "print(confusion_matrix(y_test,predictions))"
   ]
  },
  {
   "cell_type": "code",
   "execution_count": 62,
   "metadata": {},
   "outputs": [
    {
     "data": {
      "text/plain": [
       "0.5836734693877551"
      ]
     },
     "execution_count": 62,
     "metadata": {},
     "output_type": "execute_result"
    }
   ],
   "source": [
    "dtree.score(X_test, y_test)"
   ]
  },
  {
   "cell_type": "markdown",
   "metadata": {},
   "source": [
    "#### Very bad prediction"
   ]
  },
  {
   "cell_type": "markdown",
   "metadata": {},
   "source": [
    "Let's try with an ensemble of decision trees, namely random forest"
   ]
  },
  {
   "cell_type": "markdown",
   "metadata": {},
   "source": [
    "### Random forest"
   ]
  },
  {
   "cell_type": "markdown",
   "metadata": {},
   "source": [
    "Import the random forest classifier and then use the usual procedure"
   ]
  },
  {
   "cell_type": "code",
   "execution_count": 63,
   "metadata": {},
   "outputs": [],
   "source": [
    "from sklearn.ensemble import RandomForestClassifier"
   ]
  },
  {
   "cell_type": "markdown",
   "metadata": {},
   "source": [
    "I use 600 trees, which is a quite big number"
   ]
  },
  {
   "cell_type": "code",
   "execution_count": 64,
   "metadata": {},
   "outputs": [],
   "source": [
    "rfc = RandomForestClassifier(n_estimators=600)"
   ]
  },
  {
   "cell_type": "code",
   "execution_count": 65,
   "metadata": {},
   "outputs": [
    {
     "data": {
      "text/plain": [
       "RandomForestClassifier(bootstrap=True, class_weight=None, criterion='gini',\n",
       "            max_depth=None, max_features='auto', max_leaf_nodes=None,\n",
       "            min_impurity_decrease=0.0, min_impurity_split=None,\n",
       "            min_samples_leaf=1, min_samples_split=2,\n",
       "            min_weight_fraction_leaf=0.0, n_estimators=600, n_jobs=1,\n",
       "            oob_score=False, random_state=None, verbose=0,\n",
       "            warm_start=False)"
      ]
     },
     "execution_count": 65,
     "metadata": {},
     "output_type": "execute_result"
    }
   ],
   "source": [
    "rfc.fit(X_train,y_train)"
   ]
  },
  {
   "cell_type": "code",
   "execution_count": 66,
   "metadata": {},
   "outputs": [],
   "source": [
    "predictionsrf = rfc.predict(X_test)"
   ]
  },
  {
   "cell_type": "code",
   "execution_count": 67,
   "metadata": {},
   "outputs": [
    {
     "name": "stdout",
     "output_type": "stream",
     "text": [
      "             precision    recall  f1-score   support\n",
      "\n",
      "          0       0.67      0.78      0.72       134\n",
      "          1       0.66      0.53      0.59       111\n",
      "\n",
      "avg / total       0.66      0.67      0.66       245\n",
      "\n"
     ]
    }
   ],
   "source": [
    "print(classification_report(y_test,predictionsrf))"
   ]
  },
  {
   "cell_type": "code",
   "execution_count": 68,
   "metadata": {},
   "outputs": [
    {
     "data": {
      "text/plain": [
       "0.6653061224489796"
      ]
     },
     "execution_count": 68,
     "metadata": {},
     "output_type": "execute_result"
    }
   ],
   "source": [
    "rfc.score(X_test, y_test)"
   ]
  },
  {
   "cell_type": "markdown",
   "metadata": {},
   "source": [
    "#### Better than decision tree model (as expected) but not better than KNN"
   ]
  },
  {
   "cell_type": "markdown",
   "metadata": {},
   "source": [
    "Now I want to try with logistic regression, which is one of the simplest model along with KNN"
   ]
  },
  {
   "cell_type": "markdown",
   "metadata": {},
   "source": [
    "### Logistic regression"
   ]
  },
  {
   "cell_type": "markdown",
   "metadata": {},
   "source": [
    "As usual, I import first of all the classifier, and then fit and predict."
   ]
  },
  {
   "cell_type": "code",
   "execution_count": 69,
   "metadata": {},
   "outputs": [],
   "source": [
    "from sklearn.linear_model import LogisticRegression"
   ]
  },
  {
   "cell_type": "code",
   "execution_count": 70,
   "metadata": {},
   "outputs": [
    {
     "data": {
      "text/plain": [
       "LogisticRegression(C=1.0, class_weight=None, dual=False, fit_intercept=True,\n",
       "          intercept_scaling=1, max_iter=100, multi_class='ovr', n_jobs=1,\n",
       "          penalty='l2', random_state=None, solver='liblinear', tol=0.0001,\n",
       "          verbose=0, warm_start=False)"
      ]
     },
     "execution_count": 70,
     "metadata": {},
     "output_type": "execute_result"
    }
   ],
   "source": [
    "logmodel = LogisticRegression()\n",
    "\n",
    "logmodel.fit(X_train,y_train)"
   ]
  },
  {
   "cell_type": "code",
   "execution_count": 71,
   "metadata": {},
   "outputs": [],
   "source": [
    "predictionslr = logmodel.predict(X_test)"
   ]
  },
  {
   "cell_type": "code",
   "execution_count": 72,
   "metadata": {},
   "outputs": [
    {
     "name": "stdout",
     "output_type": "stream",
     "text": [
      "             precision    recall  f1-score   support\n",
      "\n",
      "          0       0.62      0.76      0.68       134\n",
      "          1       0.60      0.43      0.50       111\n",
      "\n",
      "avg / total       0.61      0.61      0.60       245\n",
      "\n"
     ]
    }
   ],
   "source": [
    "print(classification_report(y_test,predictionslr))"
   ]
  },
  {
   "cell_type": "code",
   "execution_count": 73,
   "metadata": {},
   "outputs": [
    {
     "data": {
      "text/plain": [
       "0.6122448979591837"
      ]
     },
     "execution_count": 73,
     "metadata": {},
     "output_type": "execute_result"
    }
   ],
   "source": [
    "logmodel.score(X_test, y_test)"
   ]
  },
  {
   "cell_type": "markdown",
   "metadata": {},
   "source": [
    "#### A result as bad as decision tree one"
   ]
  },
  {
   "cell_type": "markdown",
   "metadata": {},
   "source": [
    "## Feature Selection"
   ]
  },
  {
   "cell_type": "markdown",
   "metadata": {},
   "source": [
    "Finally, I do some feature selection as it can be possible that some input features are \"noisy\" and \"non-informative\" (useless in separation of classes that I have).\n",
    "\n",
    "\n",
    "I use RFE (recursive feature elimination) for assigning weights to features so that I know which ones are the most important"
   ]
  },
  {
   "cell_type": "code",
   "execution_count": 74,
   "metadata": {},
   "outputs": [],
   "source": [
    "from sklearn.feature_selection import RFE"
   ]
  },
  {
   "cell_type": "markdown",
   "metadata": {},
   "source": [
    "Create the RFE model and select 5 attributes"
   ]
  },
  {
   "cell_type": "code",
   "execution_count": 75,
   "metadata": {},
   "outputs": [],
   "source": [
    "rfe = RFE(rfc, 5)\n",
    "rfe = rfe.fit(X,y) "
   ]
  },
  {
   "cell_type": "code",
   "execution_count": 76,
   "metadata": {},
   "outputs": [
    {
     "name": "stdout",
     "output_type": "stream",
     "text": [
      "[False False  True  True  True False False False  True  True]\n",
      "[3 6 1 1 1 5 4 2 1 1]\n"
     ]
    }
   ],
   "source": [
    "print(rfe.support_)\n",
    "print(rfe.ranking_)"
   ]
  },
  {
   "cell_type": "markdown",
   "metadata": {},
   "source": [
    "The 5 most important features are height, foot length, arm span, reaction time and score in memory game"
   ]
  },
  {
   "cell_type": "markdown",
   "metadata": {},
   "source": [
    "Now I want to try to use feature_importances method and do a sort of double check"
   ]
  },
  {
   "cell_type": "markdown",
   "metadata": {},
   "source": [
    "### Feature importance"
   ]
  },
  {
   "cell_type": "markdown",
   "metadata": {},
   "source": [
    "I'm going to be using just random forest in this case, as this is the best algorithm which goes along with feature selection"
   ]
  },
  {
   "cell_type": "code",
   "execution_count": 77,
   "metadata": {},
   "outputs": [
    {
     "name": "stdout",
     "output_type": "stream",
     "text": [
      "[0.08334013 0.02536224 0.15183546 0.1600264  0.14844879 0.03115475\n",
      " 0.04602875 0.09114395 0.13487248 0.12778706]\n"
     ]
    }
   ],
   "source": [
    "rfc.fit(X,y)\n",
    "print(rfc.feature_importances_)"
   ]
  },
  {
   "cell_type": "markdown",
   "metadata": {},
   "source": [
    "This confirms that height, foot length, arm span, reaction time and score in memory game are the most important features"
   ]
  },
  {
   "cell_type": "markdown",
   "metadata": {},
   "source": [
    "Now, as a last step, i try to just use the five features to build a random forest model again"
   ]
  },
  {
   "cell_type": "markdown",
   "metadata": {},
   "source": [
    "First I create my new X matrix, with the five features"
   ]
  },
  {
   "cell_type": "code",
   "execution_count": 78,
   "metadata": {},
   "outputs": [],
   "source": [
    "X2 = df_train.iloc[:,[2,3,4,8,9]]"
   ]
  },
  {
   "cell_type": "markdown",
   "metadata": {},
   "source": [
    "Then I did the same thing as before for building the prediction model"
   ]
  },
  {
   "cell_type": "code",
   "execution_count": 79,
   "metadata": {},
   "outputs": [],
   "source": [
    "X2_train, X2_test, y_train, y_test = train_test_split(X2, y, test_size = .25,random_state=100)"
   ]
  },
  {
   "cell_type": "markdown",
   "metadata": {},
   "source": [
    "I use the same classifier as before. Also the code is pretty much the same."
   ]
  },
  {
   "cell_type": "code",
   "execution_count": 80,
   "metadata": {},
   "outputs": [
    {
     "data": {
      "text/plain": [
       "RandomForestClassifier(bootstrap=True, class_weight=None, criterion='gini',\n",
       "            max_depth=None, max_features='auto', max_leaf_nodes=None,\n",
       "            min_impurity_decrease=0.0, min_impurity_split=None,\n",
       "            min_samples_leaf=1, min_samples_split=2,\n",
       "            min_weight_fraction_leaf=0.0, n_estimators=600, n_jobs=1,\n",
       "            oob_score=False, random_state=None, verbose=0,\n",
       "            warm_start=False)"
      ]
     },
     "execution_count": 80,
     "metadata": {},
     "output_type": "execute_result"
    }
   ],
   "source": [
    "rfc.fit(X2_train,y_train)"
   ]
  },
  {
   "cell_type": "code",
   "execution_count": 81,
   "metadata": {},
   "outputs": [],
   "source": [
    "predictionsrfc = rfc.predict(X2_test)"
   ]
  },
  {
   "cell_type": "code",
   "execution_count": 82,
   "metadata": {},
   "outputs": [
    {
     "name": "stdout",
     "output_type": "stream",
     "text": [
      "             precision    recall  f1-score   support\n",
      "\n",
      "          0       0.65      0.78      0.71       134\n",
      "          1       0.65      0.50      0.57       111\n",
      "\n",
      "avg / total       0.65      0.65      0.65       245\n",
      "\n"
     ]
    }
   ],
   "source": [
    "print(classification_report(y_test,predictionsrfc))"
   ]
  },
  {
   "cell_type": "code",
   "execution_count": 83,
   "metadata": {},
   "outputs": [
    {
     "name": "stdout",
     "output_type": "stream",
     "text": [
      "[[104  30]\n",
      " [ 55  56]]\n"
     ]
    }
   ],
   "source": [
    "print(confusion_matrix(y_test, predictionsrfc))"
   ]
  },
  {
   "cell_type": "code",
   "execution_count": 85,
   "metadata": {},
   "outputs": [
    {
     "data": {
      "text/plain": [
       "0.6530612244897959"
      ]
     },
     "execution_count": 85,
     "metadata": {},
     "output_type": "execute_result"
    }
   ],
   "source": [
    "rfc.score(X2_test, y_test)"
   ]
  },
  {
   "cell_type": "markdown",
   "metadata": {},
   "source": [
    "### Even with feature selection we just get a slightly better result than the random forest model with all input variables (66% vs 65%)"
   ]
  },
  {
   "cell_type": "markdown",
   "metadata": {},
   "source": [
    "## Conclusions"
   ]
  },
  {
   "cell_type": "markdown",
   "metadata": {},
   "source": [
    "According to the models I've built, I got an accuracy as higher as 69% (from KNN with K = 18). \n",
    "\n",
    "It can seem to be a bad result, but it depends. My interpretation is that all the input variables are not very informative as to the ability to distinct male from female. One reason could be that the students are not sufficiently grown up to be distincted properly according to the their physical characteristics (height, foot length and arm span) as well as to their mental abilities (score in memory game, reaction time), meaning that the sample is pretty homogeneous between genders. "
   ]
  },
  {
   "cell_type": "markdown",
   "metadata": {},
   "source": [
    "### Thank you for your attention"
   ]
  },
  {
   "cell_type": "markdown",
   "metadata": {},
   "source": [
    "# Luca RIZZI"
   ]
  }
 ],
 "metadata": {
  "kernelspec": {
   "display_name": "Python 3",
   "language": "python",
   "name": "python3"
  },
  "language_info": {
   "codemirror_mode": {
    "name": "ipython",
    "version": 3
   },
   "file_extension": ".py",
   "mimetype": "text/x-python",
   "name": "python",
   "nbconvert_exporter": "python",
   "pygments_lexer": "ipython3",
   "version": "3.6.5"
  }
 },
 "nbformat": 4,
 "nbformat_minor": 2
}
